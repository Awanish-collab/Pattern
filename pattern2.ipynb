{
 "cells": [
  {
   "cell_type": "raw",
   "metadata": {},
   "source": [
    "# Print the following pattern for the given N number of rows.\n",
    "\n",
    "## Pattern for N = 4\n",
    "\n",
    "1\n",
    "11\n",
    "202\n",
    "3003"
   ]
  },
  {
   "cell_type": "code",
   "execution_count": 6,
   "metadata": {},
   "outputs": [
    {
     "name": "stdout",
     "output_type": "stream",
     "text": [
      "4\n",
      "1\n",
      "22\n",
      "303\n",
      "4004\n"
     ]
    }
   ],
   "source": [
    "num=int(input())\n",
    "for i in range(1,num+1):\n",
    "    for j in range(0,i):\n",
    "        x = i - 1\n",
    "        if x == 0:\n",
    "            print(1, end = \"\")\n",
    "        else:\n",
    "            if x == j or j == 0:\n",
    "                print(x, end = '')\n",
    "            else:\n",
    "                print(0, end = '')\n",
    "    print()"
   ]
  }
 ],
 "metadata": {
  "kernelspec": {
   "display_name": "Python 3",
   "language": "python",
   "name": "python3"
  },
  "language_info": {
   "codemirror_mode": {
    "name": "ipython",
    "version": 3
   },
   "file_extension": ".py",
   "mimetype": "text/x-python",
   "name": "python",
   "nbconvert_exporter": "python",
   "pygments_lexer": "ipython3",
   "version": "3.8.7"
  }
 },
 "nbformat": 4,
 "nbformat_minor": 4
}
